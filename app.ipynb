{
 "cells": [
  {
   "cell_type": "code",
   "execution_count": null,
   "id": "f2702a7b-8d8e-42de-9229-1705d5ccaa0b",
   "metadata": {},
   "outputs": [],
   "source": [
    "!pip install --upgrade -r requirements.txt"
   ]
  },
  {
   "cell_type": "code",
   "execution_count": 1,
   "id": "48e6bfcf-25f4-4549-93ff-b502af8de68a",
   "metadata": {},
   "outputs": [
    {
     "name": "stderr",
     "output_type": "stream",
     "text": [
      "'TOKENIZERS_PARALLELISM' nÆo ‚ reconhecido como um comando interno\n",
      "ou externo, um programa oper vel ou um arquivo em lotes.\n"
     ]
    }
   ],
   "source": [
    "!TOKENIZERS_PARALLELISM=true wget -O biblioteca.pdf \"https://anexosportal.datalegis.net/arquivos/1878261.pdf\""
   ]
  },
  {
   "cell_type": "markdown",
   "id": "3cb2fe91-6707-4720-8a5c-694e7a7f2883",
   "metadata": {},
   "source": [
    "## Código para popular um Banco de Dados Vetorial"
   ]
  },
  {
   "cell_type": "code",
   "execution_count": 2,
   "id": "c56d88c3-3f7f-4587-b9d7-88d3a041582f",
   "metadata": {},
   "outputs": [],
   "source": [
    "from langchain_community.document_loaders import PyPDFLoader\n",
    "from langchain_text_splitters import RecursiveCharacterTextSplitter\n",
    "from langchain_huggingface import HuggingFaceEmbeddings\n",
    "from langchain_community.vectorstores import Chroma\n",
    "\n",
    "dados = PyPDFLoader(\"Dados/D11246.pdf\").load()\n",
    "text_splitter = RecursiveCharacterTextSplitter(chunk_size=400, chunk_overlap=100)\n",
    "textos = text_splitter.split_documents(dados)\n",
    "embedding_engine = HuggingFaceEmbeddings(model_name=\"sentence-transformers/all-mpnet-base-v2\")\n",
    "vector_db = Chroma.from_documents(textos, embedding_engine)"
   ]
  },
  {
   "cell_type": "markdown",
   "id": "41f1efab-753e-4463-9db6-2b119911b745",
   "metadata": {},
   "source": [
    "## Código para montar um RAG"
   ]
  },
  {
   "cell_type": "code",
   "execution_count": 7,
   "id": "901d6b43-1a55-4ca1-a8fa-67ef6dc2eb6b",
   "metadata": {},
   "outputs": [
    {
     "name": "stderr",
     "output_type": "stream",
     "text": [
      "C:\\Users\\jeferson.oliveira\\AppData\\Local\\Programs\\Python\\Python313\\Lib\\site-packages\\langsmith\\client.py:280: LangSmithMissingAPIKeyWarning: API key must be provided when using hosted LangSmith API\n",
      "  warnings.warn(\n"
     ]
    }
   ],
   "source": [
    "from langchain import hub\n",
    "from langchain_openai import ChatOpenAI\n",
    "from langchain.prompts import PromptTemplate\n",
    "from langchain_core.runnables import RunnablePassthrough\n",
    "from langchain_core.output_parsers import StrOutputParser\n",
    "from dotenv import load_dotenv\n",
    "import os\n",
    "load_dotenv()\n",
    "\n",
    "OPENAI_API_KEY = os.environ[\"OPENAI_API_KEY\"]\n",
    "n_documentos = 1\n",
    "\n",
    "def format_docs(documentos):\n",
    "    return \"\\n\\n\".join(documento.page_content for documento in documentos)\n",
    "\n",
    "llm = ChatOpenAI(openai_api_key = OPENAI_API_KEY, model = \"gpt-4o-mini\")\n",
    "prompt = hub.pull(\"rlm/rag-prompt\")\n",
    "\n",
    "rag = (\n",
    "    {\n",
    "        \"question\": RunnablePassthrough(),\n",
    "        \"context\": vector_db.as_retriever(k = n_documentos) \n",
    "                    | format_docs\n",
    "    }\n",
    "    | prompt\n",
    "    | llm\n",
    "    | StrOutputParser()\n",
    ")"
   ]
  },
  {
   "cell_type": "markdown",
   "id": "01ddcbee-f663-4087-b501-e156b790c303",
   "metadata": {},
   "source": [
    "## Código para perguntar ao RAG"
   ]
  },
  {
   "cell_type": "code",
   "execution_count": 1,
   "id": "b032eb1a-60ae-426e-8dde-94d08b67159f",
   "metadata": {},
   "outputs": [
    {
     "ename": "NameError",
     "evalue": "name 'rag' is not defined",
     "output_type": "error",
     "traceback": [
      "\u001b[1;31m---------------------------------------------------------------------------\u001b[0m",
      "\u001b[1;31mNameError\u001b[0m                                 Traceback (most recent call last)",
      "Cell \u001b[1;32mIn[1], line 2\u001b[0m\n\u001b[0;32m      1\u001b[0m prompt \u001b[38;5;241m=\u001b[39m \u001b[38;5;124m\"\u001b[39m\u001b[38;5;124mVocê conhece o decreto nº 11246?\u001b[39m\u001b[38;5;124m\"\u001b[39m\n\u001b[1;32m----> 2\u001b[0m \u001b[43mrag\u001b[49m\u001b[38;5;241m.\u001b[39minvoke(prompt)\n",
      "\u001b[1;31mNameError\u001b[0m: name 'rag' is not defined"
     ]
    }
   ],
   "source": [
    "prompt = \"Você conhece o decreto nº 11246?\"\n",
    "rag.invoke(prompt)"
   ]
  },
  {
   "cell_type": "code",
   "execution_count": null,
   "id": "190e6874-2d9f-4d37-a696-9ef61f509d84",
   "metadata": {},
   "outputs": [],
   "source": []
  }
 ],
 "metadata": {
  "kernelspec": {
   "display_name": "Python 3 (ipykernel)",
   "language": "python",
   "name": "python3"
  },
  "language_info": {
   "codemirror_mode": {
    "name": "ipython",
    "version": 3
   },
   "file_extension": ".py",
   "mimetype": "text/x-python",
   "name": "python",
   "nbconvert_exporter": "python",
   "pygments_lexer": "ipython3",
   "version": "3.13.1"
  }
 },
 "nbformat": 4,
 "nbformat_minor": 5
}
